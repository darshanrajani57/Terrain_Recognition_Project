{
 "cells": [
  {
   "cell_type": "markdown",
   "id": "2addb3ae",
   "metadata": {},
   "source": [
    "# TerrainRecognition Model to Show Confidence for Each Class"
   ]
  },
  {
   "cell_type": "markdown",
   "id": "c8a9262a",
   "metadata": {},
   "source": [
    "## Loading the model"
   ]
  },
  {
   "cell_type": "code",
   "execution_count": 2,
   "id": "45478fab",
   "metadata": {},
   "outputs": [],
   "source": [
    "import tensorflow as tf\n",
    "\n",
    "model = tf.keras.models.load_model('./TerrainRecognitionModel.h5')"
   ]
  },
  {
   "cell_type": "markdown",
   "id": "86571010",
   "metadata": {},
   "source": [
    "## Removing the last layer with activation = 'sigmoid' to have confidence values of all classes instead of predicting one class"
   ]
  },
  {
   "cell_type": "code",
   "execution_count": 3,
   "id": "b9d05c92",
   "metadata": {},
   "outputs": [],
   "source": [
    "model.pop()"
   ]
  },
  {
   "cell_type": "markdown",
   "id": "236d9b3f",
   "metadata": {},
   "source": [
    "## Making the output layer with 4 units and activation = 'softmax'"
   ]
  },
  {
   "cell_type": "code",
   "execution_count": 6,
   "id": "e10e2c16",
   "metadata": {},
   "outputs": [],
   "source": [
    "import numpy as np\n",
    "import pandas as pd\n",
    "from keras.preprocessing.image import ImageDataGenerator\n",
    "from keras.models import Sequential\n",
    "from keras.layers import Dense, MaxPool2D, Conv2D, Flatten\n",
    "\n",
    "model.add(Dense(units = 4, activation = 'softmax'))"
   ]
  },
  {
   "cell_type": "markdown",
   "id": "ccad1dbf",
   "metadata": {},
   "source": [
    "## Preprocessing the training set and test set for the model"
   ]
  },
  {
   "cell_type": "code",
   "execution_count": 8,
   "id": "d7889297",
   "metadata": {},
   "outputs": [
    {
     "name": "stdout",
     "output_type": "stream",
     "text": [
      "Found 31571 images belonging to 4 classes.\n"
     ]
    }
   ],
   "source": [
    "train_datagen = ImageDataGenerator(\n",
    "    rescale = 1.0 / 255,\n",
    "    shear_range = 0.2,\n",
    "    zoom_range = 0.2,\n",
    "    horizontal_flip = True,\n",
    "    validation_split = 0.2\n",
    ")\n",
    "\n",
    "training_set = train_datagen.flow_from_directory(\n",
    "    './Data Main/train',\n",
    "    target_size = (64, 64),  # Adjust the target image size\n",
    "    batch_size = 32,\n",
    "    class_mode = 'categorical',\n",
    ")"
   ]
  },
  {
   "cell_type": "code",
   "execution_count": 9,
   "id": "c148da3b",
   "metadata": {},
   "outputs": [
    {
     "name": "stdout",
     "output_type": "stream",
     "text": [
      "Found 6769 images belonging to 4 classes.\n"
     ]
    }
   ],
   "source": [
    "test_datagen = ImageDataGenerator(rescale = 1./255)\n",
    "test_set = test_datagen.flow_from_directory('./Data Main/test',\n",
    "                                            target_size = (64, 64),\n",
    "                                            batch_size = 32,\n",
    "                                            class_mode = 'categorical')"
   ]
  },
  {
   "cell_type": "markdown",
   "id": "f2d62e31",
   "metadata": {},
   "source": [
    "## Compiling the model"
   ]
  },
  {
   "cell_type": "code",
   "execution_count": 10,
   "id": "3deb4631",
   "metadata": {},
   "outputs": [],
   "source": [
    "model.compile(optimizer = tf.keras.optimizers.legacy.Adam(), loss = 'categorical_crossentropy', metrics = ['accuracy'])"
   ]
  },
  {
   "cell_type": "markdown",
   "id": "13ac79d1",
   "metadata": {},
   "source": [
    "## Training the model"
   ]
  },
  {
   "cell_type": "code",
   "execution_count": 11,
   "id": "19b21908",
   "metadata": {},
   "outputs": [
    {
     "name": "stdout",
     "output_type": "stream",
     "text": [
      "Epoch 1/25\n",
      "987/987 [==============================] - 164s 166ms/step - loss: 0.6308 - accuracy: 0.8967 - val_loss: 0.3829 - val_accuracy: 0.9575\n",
      "Epoch 2/25\n",
      "987/987 [==============================] - 173s 175ms/step - loss: 0.2555 - accuracy: 0.9756 - val_loss: 0.2195 - val_accuracy: 0.9674\n",
      "Epoch 3/25\n",
      "987/987 [==============================] - 172s 174ms/step - loss: 0.1499 - accuracy: 0.9813 - val_loss: 0.1882 - val_accuracy: 0.9586\n",
      "Epoch 4/25\n",
      "987/987 [==============================] - 164s 166ms/step - loss: 0.1059 - accuracy: 0.9831 - val_loss: 0.1504 - val_accuracy: 0.9644\n",
      "Epoch 5/25\n",
      "987/987 [==============================] - 161s 163ms/step - loss: 0.0849 - accuracy: 0.9833 - val_loss: 0.1974 - val_accuracy: 0.9493\n",
      "Epoch 6/25\n",
      "987/987 [==============================] - 162s 164ms/step - loss: 0.0733 - accuracy: 0.9832 - val_loss: 0.1129 - val_accuracy: 0.9691\n",
      "Epoch 7/25\n",
      "987/987 [==============================] - 159s 162ms/step - loss: 0.0590 - accuracy: 0.9865 - val_loss: 0.1243 - val_accuracy: 0.9660\n",
      "Epoch 8/25\n",
      "987/987 [==============================] - 160s 162ms/step - loss: 0.0553 - accuracy: 0.9866 - val_loss: 0.1268 - val_accuracy: 0.9648\n",
      "Epoch 9/25\n",
      "987/987 [==============================] - 162s 164ms/step - loss: 0.0494 - accuracy: 0.9872 - val_loss: 0.1010 - val_accuracy: 0.9725\n",
      "Epoch 10/25\n",
      "987/987 [==============================] - 157s 159ms/step - loss: 0.0513 - accuracy: 0.9859 - val_loss: 0.2182 - val_accuracy: 0.9408\n",
      "Epoch 11/25\n",
      "987/987 [==============================] - 153s 155ms/step - loss: 0.0509 - accuracy: 0.9866 - val_loss: 0.0992 - val_accuracy: 0.9715\n",
      "Epoch 12/25\n",
      "987/987 [==============================] - 157s 159ms/step - loss: 0.0470 - accuracy: 0.9868 - val_loss: 0.1239 - val_accuracy: 0.9644\n",
      "Epoch 13/25\n",
      "987/987 [==============================] - 163s 165ms/step - loss: 0.0441 - accuracy: 0.9878 - val_loss: 0.2106 - val_accuracy: 0.9388\n",
      "Epoch 14/25\n",
      "987/987 [==============================] - 165s 168ms/step - loss: 0.0437 - accuracy: 0.9882 - val_loss: 0.1178 - val_accuracy: 0.9672\n",
      "Epoch 15/25\n",
      "987/987 [==============================] - 165s 167ms/step - loss: 0.0422 - accuracy: 0.9880 - val_loss: 0.1180 - val_accuracy: 0.9660\n",
      "Epoch 16/25\n",
      "987/987 [==============================] - 159s 161ms/step - loss: 0.0453 - accuracy: 0.9873 - val_loss: 0.1019 - val_accuracy: 0.9731\n",
      "Epoch 17/25\n",
      "987/987 [==============================] - 150s 152ms/step - loss: 0.0451 - accuracy: 0.9871 - val_loss: 0.0976 - val_accuracy: 0.9728\n",
      "Epoch 18/25\n",
      "987/987 [==============================] - 153s 155ms/step - loss: 0.0373 - accuracy: 0.9896 - val_loss: 0.0918 - val_accuracy: 0.9736\n",
      "Epoch 19/25\n",
      "987/987 [==============================] - 151s 153ms/step - loss: 0.0443 - accuracy: 0.9871 - val_loss: 0.1558 - val_accuracy: 0.9583\n",
      "Epoch 20/25\n",
      "987/987 [==============================] - 158s 160ms/step - loss: 0.0416 - accuracy: 0.9882 - val_loss: 0.1528 - val_accuracy: 0.9573\n",
      "Epoch 21/25\n",
      "987/987 [==============================] - 153s 155ms/step - loss: 0.0456 - accuracy: 0.9876 - val_loss: 0.1372 - val_accuracy: 0.9582\n",
      "Epoch 22/25\n",
      "987/987 [==============================] - 154s 156ms/step - loss: 0.0402 - accuracy: 0.9886 - val_loss: 0.1306 - val_accuracy: 0.9607\n",
      "Epoch 23/25\n",
      "987/987 [==============================] - 152s 154ms/step - loss: 0.0342 - accuracy: 0.9902 - val_loss: 0.1367 - val_accuracy: 0.9604\n",
      "Epoch 24/25\n",
      "987/987 [==============================] - 157s 160ms/step - loss: 0.0386 - accuracy: 0.9891 - val_loss: 0.2503 - val_accuracy: 0.9341\n",
      "Epoch 25/25\n",
      "987/987 [==============================] - 161s 163ms/step - loss: 0.0365 - accuracy: 0.9895 - val_loss: 0.1293 - val_accuracy: 0.9632\n"
     ]
    },
    {
     "data": {
      "text/plain": [
       "<keras.src.callbacks.History at 0x2915be590>"
      ]
     },
     "execution_count": 11,
     "metadata": {},
     "output_type": "execute_result"
    }
   ],
   "source": [
    "model.fit(x = training_set, validation_data = test_set, epochs = 25)"
   ]
  },
  {
   "cell_type": "markdown",
   "id": "4cc7d211",
   "metadata": {},
   "source": [
    "## Predicting a Single Result for Testing (Optional)"
   ]
  },
  {
   "cell_type": "markdown",
   "id": "ae81ab0a",
   "metadata": {},
   "source": [
    "### Importing required libraries and loading the path"
   ]
  },
  {
   "cell_type": "markdown",
   "id": "75a25c44",
   "metadata": {},
   "source": []
  },
  {
   "cell_type": "code",
   "execution_count": 40,
   "id": "53c17c97",
   "metadata": {},
   "outputs": [],
   "source": [
    "from keras.preprocessing.image import load_img, img_to_array\n",
    "\n",
    "image_path = './Data Main/val/Grassy/Grassy (1)_1_1.png'"
   ]
  },
  {
   "cell_type": "markdown",
   "id": "d604bc5d",
   "metadata": {},
   "source": [
    "### Importing the image from the path and preprocessing it"
   ]
  },
  {
   "cell_type": "code",
   "execution_count": 41,
   "id": "3db3ee93",
   "metadata": {},
   "outputs": [],
   "source": [
    "img = load_img(image_path, target_size=(64, 64))\n",
    "\n",
    "img_array = img_to_array(img)\n",
    "img_array = img_array / 255.0"
   ]
  },
  {
   "cell_type": "markdown",
   "id": "1d59d99b",
   "metadata": {},
   "source": [
    "### Flattening the image for our model"
   ]
  },
  {
   "cell_type": "code",
   "execution_count": 42,
   "id": "c902e318",
   "metadata": {},
   "outputs": [],
   "source": [
    "img_array = np.expand_dims(img_array, axis=0)"
   ]
  },
  {
   "cell_type": "markdown",
   "id": "033d08ca",
   "metadata": {},
   "source": [
    "### Predicting a single image"
   ]
  },
  {
   "cell_type": "code",
   "execution_count": 43,
   "id": "84fb551d",
   "metadata": {},
   "outputs": [
    {
     "name": "stdout",
     "output_type": "stream",
     "text": [
      "1/1 [==============================] - 0s 14ms/step\n"
     ]
    },
    {
     "data": {
      "text/plain": [
       "array([[9.980812e-01, 1.321337e-03, 5.975431e-04, 8.587863e-09]],\n",
       "      dtype=float32)"
      ]
     },
     "execution_count": 43,
     "metadata": {},
     "output_type": "execute_result"
    }
   ],
   "source": [
    "model.predict(img_array)"
   ]
  },
  {
   "cell_type": "markdown",
   "id": "fedb520d",
   "metadata": {},
   "source": [
    "### Getting the values in percentages"
   ]
  },
  {
   "cell_type": "code",
   "execution_count": null,
   "id": "3a91e578",
   "metadata": {},
   "outputs": [],
   "source": [
    "print(100 * (model.predict(img_array))[0])"
   ]
  },
  {
   "cell_type": "markdown",
   "id": "85f8c71b",
   "metadata": {},
   "source": [
    "### Saving the model"
   ]
  },
  {
   "cell_type": "code",
   "execution_count": 45,
   "id": "d36ad917",
   "metadata": {
    "scrolled": true
   },
   "outputs": [
    {
     "name": "stderr",
     "output_type": "stream",
     "text": [
      "/Users/tirthshah/anaconda3/lib/python3.11/site-packages/keras/src/engine/training.py:3079: UserWarning: You are saving your model as an HDF5 file via `model.save()`. This file format is considered legacy. We recommend using instead the native Keras format, e.g. `model.save('my_model.keras')`.\n",
      "  saving_api.save_model(\n"
     ]
    }
   ],
   "source": [
    "model.save('PredictEach.h5', save_format='h5')"
   ]
  }
 ],
 "metadata": {
  "kernelspec": {
   "display_name": "Python 3 (ipykernel)",
   "language": "python",
   "name": "python3"
  },
  "language_info": {
   "codemirror_mode": {
    "name": "ipython",
    "version": 3
   },
   "file_extension": ".py",
   "mimetype": "text/x-python",
   "name": "python",
   "nbconvert_exporter": "python",
   "pygments_lexer": "ipython3",
   "version": "3.11.4"
  }
 },
 "nbformat": 4,
 "nbformat_minor": 5
}
